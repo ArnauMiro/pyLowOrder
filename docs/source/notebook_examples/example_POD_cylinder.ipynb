{
 "cells": [
  {
   "cell_type": "markdown",
   "metadata": {},
   "source": [
    "# Example of parallel Proper Orthogonal Decomposition\n",
    "This notebook is an example on how to perform proper orthogonal decomposition in parallel using pyLOM. First of all, let's import the needed libraries"
   ]
  },
  {
   "cell_type": "code",
   "execution_count": 1,
   "metadata": {},
   "outputs": [
    {
     "name": "stderr",
     "output_type": "stream",
     "text": [
      "0 Warning! Import - NVTX not present!\n"
     ]
    },
    {
     "ename": "ImportError",
     "evalue": "cannot import name 'plotResidual' from 'pyLOM.POD.plots' (/home/benet/Documents/repos/pyLowOrder/pyLOM/POD/plots.py)",
     "output_type": "error",
     "traceback": [
      "\u001b[0;31m---------------------------------------------------------------------------\u001b[0m",
      "\u001b[0;31mImportError\u001b[0m                               Traceback (most recent call last)",
      "Cell \u001b[0;32mIn [1], line 7\u001b[0m\n\u001b[1;32m      4\u001b[0m mpi4py\u001b[38;5;241m.\u001b[39mrc\u001b[38;5;241m.\u001b[39mrecv_mprobe \u001b[38;5;241m=\u001b[39m \u001b[38;5;28;01mFalse\u001b[39;00m\n\u001b[1;32m      6\u001b[0m \u001b[38;5;28;01mimport\u001b[39;00m \u001b[38;5;21;01mnumpy\u001b[39;00m \u001b[38;5;28;01mas\u001b[39;00m \u001b[38;5;21;01mnp\u001b[39;00m\n\u001b[0;32m----> 7\u001b[0m \u001b[38;5;28;01mimport\u001b[39;00m \u001b[38;5;21;01mpyLOM\u001b[39;00m\n",
      "File \u001b[0;32m~/Documents/repos/pyLowOrder/pyLOM/__init__.py:22\u001b[0m\n\u001b[1;32m     19\u001b[0m \u001b[38;5;28;01mfrom\u001b[39;00m \u001b[38;5;21;01m.\u001b[39;00m\u001b[38;5;21;01mutils\u001b[39;00m\u001b[38;5;21;01m.\u001b[39;00m\u001b[38;5;21;01mgpu\u001b[39;00m    \u001b[38;5;28;01mimport\u001b[39;00m gpu_device\n\u001b[1;32m     21\u001b[0m \u001b[38;5;66;03m# Import Low Order Models\u001b[39;00m\n\u001b[0;32m---> 22\u001b[0m \u001b[38;5;28;01mfrom\u001b[39;00m \u001b[38;5;21;01m.\u001b[39;00m \u001b[38;5;28;01mimport\u001b[39;00m POD, DMD, SPOD, MANIFOLD, GPOD\n\u001b[1;32m     24\u001b[0m \u001b[38;5;66;03m# Import AI Models\u001b[39;00m\n\u001b[1;32m     25\u001b[0m \u001b[38;5;66;03m# Leaving this commented as the NN module overloads the memory when loaded\u001b[39;00m\n\u001b[1;32m     26\u001b[0m \u001b[38;5;66;03m# to load the NN module use `import pyLOM.NN` instead\u001b[39;00m\n\u001b[0;32m   (...)\u001b[0m\n\u001b[1;32m     32\u001b[0m \u001b[38;5;66;03m#\traiseWarning('Import - Cannot load NN! Ensure that the correct dependencies are installed',allranks=False)\u001b[39;00m\n\u001b[1;32m     33\u001b[0m \u001b[38;5;66;03m#\tdel raiseWarning\u001b[39;00m\n\u001b[1;32m     36\u001b[0m \u001b[38;5;28;01mdel\u001b[39;00m dataset, partition_table, mesh\n",
      "File \u001b[0;32m~/Documents/repos/pyLowOrder/pyLOM/POD/__init__.py:11\u001b[0m\n\u001b[1;32m      9\u001b[0m \u001b[38;5;28;01mfrom\u001b[39;00m \u001b[38;5;21;01m.\u001b[39;00m\u001b[38;5;21;01mwrapper\u001b[39;00m \u001b[38;5;28;01mimport\u001b[39;00m run, truncate, reconstruct\n\u001b[1;32m     10\u001b[0m \u001b[38;5;28;01mfrom\u001b[39;00m \u001b[38;5;21;01m.\u001b[39;00m\u001b[38;5;21;01mutils\u001b[39;00m   \u001b[38;5;28;01mimport\u001b[39;00m extract_modes, save, load\n\u001b[0;32m---> 11\u001b[0m \u001b[38;5;28;01mfrom\u001b[39;00m \u001b[38;5;21;01m.\u001b[39;00m\u001b[38;5;21;01mplots\u001b[39;00m   \u001b[38;5;28;01mimport\u001b[39;00m plotResidual, plotMode, plotSnapshot\n\u001b[1;32m     14\u001b[0m \u001b[38;5;28;01mdel\u001b[39;00m wrapper, plots\n",
      "\u001b[0;31mImportError\u001b[0m: cannot import name 'plotResidual' from 'pyLOM.POD.plots' (/home/benet/Documents/repos/pyLowOrder/pyLOM/POD/plots.py)"
     ]
    }
   ],
   "source": [
    "from __future__ import print_function, division\n",
    "\n",
    "import mpi4py\n",
    "mpi4py.rc.recv_mprobe = False\n",
    "\n",
    "import numpy as np\n",
    "import pyLOM"
   ]
  },
  {
   "cell_type": "markdown",
   "metadata": {},
   "source": [
    "Then we will detect the GPU configuration of our hardware to check if we can run the POD on the GPU or we have to use CPUs. In case we are using GPUs, we need to specify how many GPUs are available on our machine or on each computing node of our cluster"
   ]
  },
  {
   "cell_type": "code",
   "execution_count": null,
   "metadata": {},
   "outputs": [],
   "source": [
    "pyLOM.gpu_device(gpu_per_node=4)"
   ]
  },
  {
   "cell_type": "markdown",
   "metadata": {},
   "source": [
    "Now it's time to specify the path to the pyLOM dataset from which we'll be loading the data to perform POD and the variable we will decompose. Although all pyLOM functionalities need a np.ndarray as input argument, it is highly recommended to the data using the pyLOM dataset format because it manages the data in parallel straightaway"
   ]
  },
  {
   "cell_type": "code",
   "execution_count": null,
   "metadata": {},
   "outputs": [],
   "source": [
    "## Parameters\n",
    "DATAFILE = './DATA/CYLINDER.h5'\n",
    "VARIABLE = 'VELOC'\n",
    "\n",
    "## Data loading\n",
    "m = pyLOM.Mesh.load(DATAFILE)\n",
    "d = pyLOM.Dataset.load(DATAFILE,ptable=m.partition_table).to_gpu([VARIABLE]) # Send to GPU if available\n",
    "X = d[VARIABLE]\n",
    "t = d.get_variable('time')"
   ]
  },
  {
   "cell_type": "markdown",
   "metadata": {},
   "source": [
    "The next step is already performing the proper orthogonal decomposition of the array X. In this case we activate the flag to mean-center the data before doing POD and we'll compute the full matrices as it is the default option from pyLOM:"
   ]
  },
  {
   "cell_type": "code",
   "execution_count": null,
   "metadata": {},
   "outputs": [],
   "source": [
    "PSI,S,V = pyLOM.POD.run(X,remove_mean=True)"
   ]
  },
  {
   "cell_type": "markdown",
   "metadata": {},
   "source": [
    "Now, we can truncate the POD matrices depending on the singular values which we want to keep. We can use three different truncation criteria as the smallest singular value that we want to mantain, how many modes we want the reduced system to keep or the energy percentage that we want to conserve.  If r >= 1, it is treated as the number of modes, if r < 1 and r > 0 it is treated as the residual target and finally if r < 1 and r < 0 it is treated as the fraction of cumulative energy to retain.\n",
    "In this case we'll retain all the modes with a singular value larger than 5e-6."
   ]
  },
  {
   "cell_type": "code",
   "execution_count": null,
   "metadata": {},
   "outputs": [],
   "source": [
    "PSI,S,V = pyLOM.POD.truncate(PSI,S,V,r=5e-6)"
   ]
  },
  {
   "cell_type": "markdown",
   "metadata": {},
   "source": [
    "Instead of computing the full POD matrices and then truncate the results, we can also perform randomized POD straightaway to save some computational time and memory resources. To do so, we must activate the randomized flag of the POD.run function, specify the number of modes that we want to compute and the number of power iterations (recommended between 1 and 3). "
   ]
  },
  {
   "cell_type": "code",
   "execution_count": null,
   "metadata": {},
   "outputs": [],
   "source": [
    "PSI,S,V = pyLOM.POD.run(X,remove_mean=True,randomized=True,r=8,q=3) # PSI are POD modes"
   ]
  },
  {
   "cell_type": "markdown",
   "metadata": {},
   "source": [
    "After that we can reconstruct the data using the truncated or randomized modes to assess the effect of reducing the number of modes on the total flow field dynamics"
   ]
  },
  {
   "cell_type": "code",
   "execution_count": null,
   "metadata": {},
   "outputs": [],
   "source": [
    "X_POD = pyLOM.POD.reconstruct(PSI,S,V)\n",
    "rmse  = pyLOM.math.RMSE(X_POD,X)\n",
    "pyLOM.pprint(0,'RMSE = %e'%rmse)"
   ]
  },
  {
   "cell_type": "markdown",
   "metadata": {},
   "source": [
    "The spatial modes can then be visualized using either pyVista (when working locally and in serial) or saved to a vtkhdf file that can be read using ParaView. The first step is adding the spatial modes as a new variable to the pyLOM dataset:"
   ]
  },
  {
   "cell_type": "code",
   "execution_count": null,
   "metadata": {},
   "outputs": [],
   "source": [
    "d.add_field('spatial_modes_U',6,pyLOM.POD.extract_modes(PSI,1,len(d),modes=[1,4,6,2,5,3]))"
   ]
  },
  {
   "cell_type": "markdown",
   "metadata": {},
   "source": [
    "And then save them in ParaView format"
   ]
  },
  {
   "cell_type": "code",
   "execution_count": null,
   "metadata": {},
   "outputs": [],
   "source": [
    "pyLOM.io.pv_writer(m,d.to_cpu(['spatial_modes_U']),'modes',basedir='out/modes',instants=[0],times=[0.],vars=['spatial_modes_U'],fmt='vtkh5')\n",
    "pyLOM.POD.plotSnapshot(m,d.to_cpu(['spatial_modes_U']),vars=['spatial_modes_U'],instant=0,component=0,cmap='jet',cpos='xy')"
   ]
  },
  {
   "cell_type": "markdown",
   "metadata": {},
   "source": [
    "Then we can also visualize the reconstruction using only the truncated modes using the same workflow:"
   ]
  },
  {
   "cell_type": "code",
   "execution_count": null,
   "metadata": {},
   "outputs": [],
   "source": [
    "d.add_field('VELOR',2,X_POD)\n",
    "pyLOM.io.pv_writer(m,d.to_cpu(['VELOC','VELOR']),'flow',basedir='out/flow',instants=np.arange(t.shape[0],dtype=np.int32),times=t,vars=['VELOC','VELOR'],fmt='vtkh5')\n",
    "pyLOM.POD.plotSnapshot(m,d.to_cpu(['VELOR']),vars=['VELOR'],instant=0,component=0,cmap='jet',cpos='xy')"
   ]
  }
 ],
 "metadata": {
  "kernelspec": {
   "display_name": "Python 3",
   "language": "python",
   "name": "python3"
  },
  "language_info": {
   "codemirror_mode": {
    "name": "ipython",
    "version": 3
   },
   "file_extension": ".py",
   "mimetype": "text/x-python",
   "name": "python",
   "nbconvert_exporter": "python",
   "pygments_lexer": "ipython3",
   "version": "3.9.15"
  }
 },
 "nbformat": 4,
 "nbformat_minor": 2
}
